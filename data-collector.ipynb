{
 "cells": [
  {
   "cell_type": "code",
   "execution_count": 32,
   "metadata": {},
   "outputs": [],
   "source": [
    "# Import necessary libraries\n",
    "import pandas as pd\n",
    "import requests\n",
    "import json\n",
    "import influxdb_client\n",
    "from influxdb import InfluxDBClient\n",
    "from influxdb_client.client.write_api import SYNCHRONOUS\n",
    "import matplotlib.pyplot as plt\n",
    "%matplotlib inline"
   ]
  },
  {
   "cell_type": "code",
   "execution_count": 2,
   "metadata": {},
   "outputs": [],
   "source": [
    "#AUTOMATION AREA\n",
    "# 1) Get company tickers to format URL string\n",
    "# 2) Format string as such: \"https://financialmodelingprep.com/api/v3/income-statement/\" + companyName + \"?datatype=csv&apikey=\" + API_KEY"
   ]
  },
  {
   "cell_type": "code",
   "execution_count": 3,
   "metadata": {},
   "outputs": [],
   "source": [
    "# Retrieve local API key from file (---this file is not to be pushed to GitHub for security reasons ---)\n",
    "keyFile=\"/home/wintergreen/Projects/fskeyfile.txt\"\n",
    "with open(keyFile) as f:\n",
    "    key = str(f.readline().replace(\"\\n\",\"\"))"
   ]
  },
  {
   "cell_type": "code",
   "execution_count": 4,
   "metadata": {},
   "outputs": [],
   "source": [
    "API_KEY = key"
   ]
  },
  {
   "cell_type": "code",
   "execution_count": 5,
   "metadata": {},
   "outputs": [],
   "source": [
    "TICKER_TARGET = \"AAPL\""
   ]
  },
  {
   "cell_type": "code",
   "execution_count": 6,
   "metadata": {},
   "outputs": [],
   "source": [
    "URL = \"https://financialmodelingprep.com/api/v3/income-statement/\" + TICKER_TARGET + \"?limit=120&apikey=\" + API_KEY"
   ]
  },
  {
   "cell_type": "code",
   "execution_count": 7,
   "metadata": {},
   "outputs": [],
   "source": [
    "r = requests.get(URL)"
   ]
  },
  {
   "cell_type": "code",
   "execution_count": 8,
   "metadata": {},
   "outputs": [],
   "source": [
    "r = r.json()"
   ]
  },
  {
   "cell_type": "code",
   "execution_count": 24,
   "metadata": {},
   "outputs": [
    {
     "data": {
      "text/html": [
       "<div>\n",
       "<style scoped>\n",
       "    .dataframe tbody tr th:only-of-type {\n",
       "        vertical-align: middle;\n",
       "    }\n",
       "\n",
       "    .dataframe tbody tr th {\n",
       "        vertical-align: top;\n",
       "    }\n",
       "\n",
       "    .dataframe thead th {\n",
       "        text-align: right;\n",
       "    }\n",
       "</style>\n",
       "<table border=\"1\" class=\"dataframe\">\n",
       "  <thead>\n",
       "    <tr style=\"text-align: right;\">\n",
       "      <th></th>\n",
       "      <th>date</th>\n",
       "      <th>revenue</th>\n",
       "    </tr>\n",
       "  </thead>\n",
       "  <tbody>\n",
       "    <tr>\n",
       "      <th>0</th>\n",
       "      <td>1985-09-30</td>\n",
       "      <td>1918300000</td>\n",
       "    </tr>\n",
       "    <tr>\n",
       "      <th>1</th>\n",
       "      <td>1986-09-30</td>\n",
       "      <td>1901900000</td>\n",
       "    </tr>\n",
       "    <tr>\n",
       "      <th>2</th>\n",
       "      <td>1987-09-30</td>\n",
       "      <td>2661100000</td>\n",
       "    </tr>\n",
       "    <tr>\n",
       "      <th>3</th>\n",
       "      <td>1988-09-30</td>\n",
       "      <td>4071400000</td>\n",
       "    </tr>\n",
       "    <tr>\n",
       "      <th>4</th>\n",
       "      <td>1989-09-30</td>\n",
       "      <td>5284000000</td>\n",
       "    </tr>\n",
       "    <tr>\n",
       "      <th>5</th>\n",
       "      <td>1990-09-30</td>\n",
       "      <td>5558400000</td>\n",
       "    </tr>\n",
       "    <tr>\n",
       "      <th>6</th>\n",
       "      <td>1991-09-30</td>\n",
       "      <td>6308800000</td>\n",
       "    </tr>\n",
       "    <tr>\n",
       "      <th>7</th>\n",
       "      <td>1992-09-30</td>\n",
       "      <td>7086500000</td>\n",
       "    </tr>\n",
       "    <tr>\n",
       "      <th>8</th>\n",
       "      <td>1993-09-30</td>\n",
       "      <td>7977000000</td>\n",
       "    </tr>\n",
       "    <tr>\n",
       "      <th>9</th>\n",
       "      <td>1994-09-30</td>\n",
       "      <td>9188748000</td>\n",
       "    </tr>\n",
       "    <tr>\n",
       "      <th>10</th>\n",
       "      <td>1995-09-29</td>\n",
       "      <td>11062000000</td>\n",
       "    </tr>\n",
       "    <tr>\n",
       "      <th>11</th>\n",
       "      <td>1996-09-27</td>\n",
       "      <td>9833000000</td>\n",
       "    </tr>\n",
       "    <tr>\n",
       "      <th>12</th>\n",
       "      <td>1997-09-26</td>\n",
       "      <td>7081000000</td>\n",
       "    </tr>\n",
       "    <tr>\n",
       "      <th>13</th>\n",
       "      <td>1998-09-25</td>\n",
       "      <td>5941000000</td>\n",
       "    </tr>\n",
       "    <tr>\n",
       "      <th>14</th>\n",
       "      <td>1999-09-25</td>\n",
       "      <td>6134000000</td>\n",
       "    </tr>\n",
       "    <tr>\n",
       "      <th>15</th>\n",
       "      <td>2000-09-30</td>\n",
       "      <td>7983000000</td>\n",
       "    </tr>\n",
       "    <tr>\n",
       "      <th>16</th>\n",
       "      <td>2001-09-29</td>\n",
       "      <td>5363000000</td>\n",
       "    </tr>\n",
       "    <tr>\n",
       "      <th>17</th>\n",
       "      <td>2002-09-28</td>\n",
       "      <td>5742000000</td>\n",
       "    </tr>\n",
       "    <tr>\n",
       "      <th>18</th>\n",
       "      <td>2003-09-27</td>\n",
       "      <td>6207000000</td>\n",
       "    </tr>\n",
       "    <tr>\n",
       "      <th>19</th>\n",
       "      <td>2004-09-25</td>\n",
       "      <td>8279000000</td>\n",
       "    </tr>\n",
       "    <tr>\n",
       "      <th>20</th>\n",
       "      <td>2005-09-24</td>\n",
       "      <td>13931000000</td>\n",
       "    </tr>\n",
       "    <tr>\n",
       "      <th>21</th>\n",
       "      <td>2006-09-30</td>\n",
       "      <td>19315000000</td>\n",
       "    </tr>\n",
       "    <tr>\n",
       "      <th>22</th>\n",
       "      <td>2007-09-29</td>\n",
       "      <td>24006000000</td>\n",
       "    </tr>\n",
       "    <tr>\n",
       "      <th>23</th>\n",
       "      <td>2008-09-27</td>\n",
       "      <td>32479000000</td>\n",
       "    </tr>\n",
       "    <tr>\n",
       "      <th>24</th>\n",
       "      <td>2009-09-26</td>\n",
       "      <td>36537000000</td>\n",
       "    </tr>\n",
       "    <tr>\n",
       "      <th>25</th>\n",
       "      <td>2010-09-25</td>\n",
       "      <td>65225000000</td>\n",
       "    </tr>\n",
       "    <tr>\n",
       "      <th>26</th>\n",
       "      <td>2011-09-24</td>\n",
       "      <td>108249000000</td>\n",
       "    </tr>\n",
       "    <tr>\n",
       "      <th>27</th>\n",
       "      <td>2012-09-29</td>\n",
       "      <td>156508000000</td>\n",
       "    </tr>\n",
       "    <tr>\n",
       "      <th>28</th>\n",
       "      <td>2013-09-28</td>\n",
       "      <td>170910000000</td>\n",
       "    </tr>\n",
       "    <tr>\n",
       "      <th>29</th>\n",
       "      <td>2014-09-27</td>\n",
       "      <td>182795000000</td>\n",
       "    </tr>\n",
       "    <tr>\n",
       "      <th>30</th>\n",
       "      <td>2015-09-26</td>\n",
       "      <td>233715000000</td>\n",
       "    </tr>\n",
       "    <tr>\n",
       "      <th>31</th>\n",
       "      <td>2016-09-24</td>\n",
       "      <td>215639000000</td>\n",
       "    </tr>\n",
       "    <tr>\n",
       "      <th>32</th>\n",
       "      <td>2017-09-30</td>\n",
       "      <td>229234000000</td>\n",
       "    </tr>\n",
       "    <tr>\n",
       "      <th>33</th>\n",
       "      <td>2018-09-29</td>\n",
       "      <td>265595000000</td>\n",
       "    </tr>\n",
       "    <tr>\n",
       "      <th>34</th>\n",
       "      <td>2019-09-28</td>\n",
       "      <td>260174000000</td>\n",
       "    </tr>\n",
       "    <tr>\n",
       "      <th>35</th>\n",
       "      <td>2020-09-26</td>\n",
       "      <td>274515000000</td>\n",
       "    </tr>\n",
       "  </tbody>\n",
       "</table>\n",
       "</div>"
      ],
      "text/plain": [
       "          date       revenue\n",
       "0   1985-09-30    1918300000\n",
       "1   1986-09-30    1901900000\n",
       "2   1987-09-30    2661100000\n",
       "3   1988-09-30    4071400000\n",
       "4   1989-09-30    5284000000\n",
       "5   1990-09-30    5558400000\n",
       "6   1991-09-30    6308800000\n",
       "7   1992-09-30    7086500000\n",
       "8   1993-09-30    7977000000\n",
       "9   1994-09-30    9188748000\n",
       "10  1995-09-29   11062000000\n",
       "11  1996-09-27    9833000000\n",
       "12  1997-09-26    7081000000\n",
       "13  1998-09-25    5941000000\n",
       "14  1999-09-25    6134000000\n",
       "15  2000-09-30    7983000000\n",
       "16  2001-09-29    5363000000\n",
       "17  2002-09-28    5742000000\n",
       "18  2003-09-27    6207000000\n",
       "19  2004-09-25    8279000000\n",
       "20  2005-09-24   13931000000\n",
       "21  2006-09-30   19315000000\n",
       "22  2007-09-29   24006000000\n",
       "23  2008-09-27   32479000000\n",
       "24  2009-09-26   36537000000\n",
       "25  2010-09-25   65225000000\n",
       "26  2011-09-24  108249000000\n",
       "27  2012-09-29  156508000000\n",
       "28  2013-09-28  170910000000\n",
       "29  2014-09-27  182795000000\n",
       "30  2015-09-26  233715000000\n",
       "31  2016-09-24  215639000000\n",
       "32  2017-09-30  229234000000\n",
       "33  2018-09-29  265595000000\n",
       "34  2019-09-28  260174000000\n",
       "35  2020-09-26  274515000000"
      ]
     },
     "execution_count": 24,
     "metadata": {},
     "output_type": "execute_result"
    }
   ],
   "source": [
    "data = pd.DataFrame.from_dict(r)\n",
    "data = data[['date','revenue']]\n",
    "data = data.sort_values(by=['date'])\n",
    "data = data.reset_index()\n",
    "data = data[['date','revenue']]\n",
    "data"
   ]
  },
  {
   "cell_type": "code",
   "execution_count": 37,
   "metadata": {
    "scrolled": true
   },
   "outputs": [
    {
     "data": {
      "text/plain": [
       "<AxesSubplot:xlabel='Time-35yrs', ylabel='Billions-USD'>"
      ]
     },
     "execution_count": 37,
     "metadata": {},
     "output_type": "execute_result"
    },
    {
     "data": {
      "text/plain": [
       "<Figure size 432x288 with 0 Axes>"
      ]
     },
     "metadata": {},
     "output_type": "display_data"
    },
    {
     "data": {
      "image/png": "[encoded data removed]",
      "text/plain": [
       "<Figure size 432x288 with 1 Axes>"
      ]
     },
     "metadata": {
      "needs_background": "light"
     },
     "output_type": "display_data"
    }
   ],
   "source": [
    "plt.figure()\n",
    "ax = data.plot()\n",
    "ax.set_ylabel('Billions-USD')\n",
    "ax.set_xlabel('Time-35yrs')\n",
    "ax"
   ]
  },
  {
   "cell_type": "markdown",
   "metadata": {},
   "source": [
    "### NEXT STEPS:\n",
    "\n",
    "At this point, the program can successfully write out data to the InfluxDB database. The next steps will be:\n",
    "\n",
    "1) Replace the above code with Python code that can write in bulk to the InfluxDB bucket\n",
    "        \n",
    "2) Connect the InfluxDB bucket to a Grafana Data Source and create a Dashboard that features this bucket as a DataSource\n",
    "\n",
    "Once the above two are done, we can then move onto actually plugging data into the InfluxDB.\n",
    "\n",
    "3) Run calculations on financial data imported into InfluxDB\n",
    "\n",
    "4) Visualize in Grafana"
   ]
  },
  {
   "cell_type": "code",
   "execution_count": null,
   "metadata": {},
   "outputs": [],
   "source": []
  }
 ],
 "metadata": {
  "kernelspec": {
   "display_name": "Python 3",
   "language": "python",
   "name": "python3"
  },
  "language_info": {
   "codemirror_mode": {
    "name": "ipython",
    "version": 3
   },
   "file_extension": ".py",
   "mimetype": "text/x-python",
   "name": "python",
   "nbconvert_exporter": "python",
   "pygments_lexer": "ipython3",
   "version": "3.8.5"
  }
 },
 "nbformat": 4,
 "nbformat_minor": 4
}
