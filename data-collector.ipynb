{
 "cells": [
  {
   "cell_type": "code",
   "execution_count": null,
   "metadata": {},
   "outputs": [],
   "source": [
    "# Import necessary libraries\n",
    "import pandas as pd\n",
    "import requests\n",
    "import json\n",
    "import influxdb_client\n",
    "from influxdb_client.client.write_api import SYNCHRONOUS"
   ]
  },
  {
   "cell_type": "code",
   "execution_count": null,
   "metadata": {},
   "outputs": [],
   "source": [
    "#AUTOMATION AREA\n",
    "# 1) Get company tickers to format URL string\n",
    "# 2) Format string as such: \"https://financialmodelingprep.com/api/v3/income-statement/\" + companyName + \"?datatype=csv&apikey=\" + API_KEY"
   ]
  },
  {
   "cell_type": "code",
   "execution_count": null,
   "metadata": {},
   "outputs": [],
   "source": [
    "# Retrieve API key from file (---this file is not to be pushed to GitHub for security reasons ---)\n",
    "keyFile=\"/home/wintergreen/Projects/fskeyfile.txt\"\n",
    "with open(keyFile) as f:\n",
    "    key = str(f.readline().replace(\"\\n\",\"\"))"
   ]
  },
  {
   "cell_type": "code",
   "execution_count": null,
   "metadata": {},
   "outputs": [],
   "source": [
    "API_KEY = key"
   ]
  },
  {
   "cell_type": "code",
   "execution_count": null,
   "metadata": {},
   "outputs": [],
   "source": [
    "TICKER_TARGET = \"AAPL\""
   ]
  },
  {
   "cell_type": "code",
   "execution_count": null,
   "metadata": {},
   "outputs": [],
   "source": [
    "URL = \"https://financialmodelingprep.com/api/v3/income-statement/\" + TICKER_TARGET + \"?limit=120&apikey=\" + API_KEY"
   ]
  },
  {
   "cell_type": "code",
   "execution_count": null,
   "metadata": {},
   "outputs": [],
   "source": [
    "r = requests.get(URL)"
   ]
  },
  {
   "cell_type": "code",
   "execution_count": null,
   "metadata": {},
   "outputs": [],
   "source": [
    "r = r.json()"
   ]
  },
  {
   "cell_type": "code",
   "execution_count": null,
   "metadata": {},
   "outputs": [],
   "source": [
    "pd.DataFrame.from_dict(r)"
   ]
  },
  {
   "cell_type": "code",
   "execution_count": null,
   "metadata": {},
   "outputs": [],
   "source": [
    "tokenFile=\"/home/wintergreen/Projects/influxdbtoken.txt\"\n",
    "with open(tokenFile) as f:\n",
    "    token = str(f.readline().replace(\"\\n\",\"\"))"
   ]
  },
  {
   "cell_type": "code",
   "execution_count": null,
   "metadata": {},
   "outputs": [],
   "source": [
    "bucket = \"Flagship\"\n",
    "org = \"ee0d2e13230da9d9\"\n",
    "url = \"http://localhost:8086\"\n",
    "token = token\n",
    "client = influxdb_client.InfluxDBClient(\n",
    "    url=url,\n",
    "    org = org,\n",
    "    token=token\n",
    ")\n",
    "\n",
    "write_api = client.write_api(write_options=SYNCHRONOUS)\n",
    "p = influxdb_client.Point(\"millions_of_dollars\").tag(\"reported\", \"Finances\").field(\"revenue\", 2567.90)\n",
    "write_api.write(bucket=bucket, org=org, record=p)"
   ]
  }
 ],
 "metadata": {
  "kernelspec": {
   "display_name": "Python 3",
   "language": "python",
   "name": "python3"
  },
  "language_info": {
   "codemirror_mode": {
    "name": "ipython",
    "version": 3
   },
   "file_extension": ".py",
   "mimetype": "text/x-python",
   "name": "python",
   "nbconvert_exporter": "python",
   "pygments_lexer": "ipython3",
   "version": "3.8.5"
  }
 },
 "nbformat": 4,
 "nbformat_minor": 4
}
