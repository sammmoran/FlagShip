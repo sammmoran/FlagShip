{
 "cells": [
  {
   "cell_type": "markdown",
   "metadata": {},
   "source": [
    "# FlagShip\n",
    "##### Author: Samuel Moran "
   ]
  },
  {
   "cell_type": "markdown",
   "metadata": {},
   "source": [
    "### Preliminary Work"
   ]
  },
  {
   "cell_type": "code",
   "execution_count": null,
   "metadata": {},
   "outputs": [],
   "source": [
    "# Import necessary libraries\n",
    "import pandas as pd\n",
    "import requests\n",
    "import json\n",
    "import influxdb_client\n",
    "from influxdb import InfluxDBClient\n",
    "from influxdb_client.client.write_api import SYNCHRONOUS\n",
    "import matplotlib.pyplot as plt\n",
    "import matplotlib.dates as mdates\n",
    "import datetime as dt\n",
    "%matplotlib inline"
   ]
  },
  {
   "cell_type": "code",
   "execution_count": null,
   "metadata": {},
   "outputs": [],
   "source": [
    "#AUTOMATION AREA\n",
    "# 1) Get company tickers to format URL string\n",
    "# 2) Format string as such: \"https://financialmodelingprep.com/api/v3/income-statement/\" + companyName + \"?datatype=csv&apikey=\" + API_KEY"
   ]
  },
  {
   "cell_type": "code",
   "execution_count": null,
   "metadata": {},
   "outputs": [],
   "source": [
    "# Retrieve local API key from file (---this file is not to be pushed to GitHub for security reasons ---)\n",
    "keyFile=\"/home/wintergreen/Projects/fskeyfile.txt\"\n",
    "with open(keyFile) as f:\n",
    "    key = str(f.readline().replace(\"\\n\",\"\"))\n",
    "API_KEY = key"
   ]
  },
  {
   "cell_type": "code",
   "execution_count": null,
   "metadata": {},
   "outputs": [],
   "source": [
    "# Ticker indicates what company to pull data from (i.e. AAPL, AMZN, CMG, etc.)\n",
    "TICKER_TARGET = \"AAPL\""
   ]
  },
  {
   "cell_type": "code",
   "execution_count": null,
   "metadata": {},
   "outputs": [],
   "source": [
    "URL = \"https://financialmodelingprep.com/api/v3/income-statement/\" + TICKER_TARGET + \"?limit=120&apikey=\" + API_KEY"
   ]
  },
  {
   "cell_type": "code",
   "execution_count": null,
   "metadata": {
    "scrolled": true
   },
   "outputs": [],
   "source": [
    "# Make request for data\n",
    "r = requests.get(URL)\n",
    "r = r.json()\n",
    "pd.DataFrame.from_dict(r).head(5)"
   ]
  },
  {
   "cell_type": "markdown",
   "metadata": {},
   "source": [
    "### Calculations"
   ]
  },
  {
   "cell_type": "code",
   "execution_count": null,
   "metadata": {},
   "outputs": [],
   "source": [
    "# Prepare the data: sort values from least recent to most recent\n",
    "data = (((pd.DataFrame.from_dict(r).head(5)).sort_values(by=['fillingDate'])).reset_index()).tail()\n",
    "\n",
    "# Combine SellingAndMarketing and generalAndAdministrative into one SGA Cost\n",
    "data['SellingGeneralAdministrative'] = data.apply(lambda row: row.generalAndAdministrativeExpenses + (row.sellingAndMarketingExpenses), axis=1)\n",
    "\n",
    "# Provide SGA costs as a percentage of Gross Profits\n",
    "data['SGA_%_GP'] = data.apply(lambda row: (row.SellingGeneralAdministrative / row.grossProfit)*100, axis=1)\n",
    "\n",
    "# Provide R&D costs as a percentage of Gross Profits\n",
    "data['RD_%_GP'] = data.apply(lambda row: (row.researchAndDevelopmentExpenses / row.grossProfit)*100, axis=1)\n",
    "\n",
    "# Provide GrossProfitMargin in a 'percentage' form\n",
    "data['grossProfitMargin'] = data.apply(lambda row: row.grossProfitRatio * 100,axis=1)\n",
    "\n",
    "# Provide Net Earnings as a percentage of Revenue\n",
    "data['NE_%_RV'] = data.apply(lambda row: (row.netIncome / row.revenue) * 100,axis=1)\n",
    "\n",
    "\n",
    "# Gather metrics needed for linear time-series graphs\n",
    "\n",
    "# Compare Revenue, Gross Profits, and Net Earnings as time-series for trends in growth or decline\n",
    "revGrossNet=data[['fillingDate','revenue','grossProfit','netIncome']]\n",
    "\n",
    "# Display Gross Profit Margin over time for trends in growth or decline\n",
    "grossProfitMargin = data[['fillingDate','grossProfitMargin']]\n",
    "\n",
    "# Deplay how much (as a percentage) SGA and R&D take up Gross Profits for trends in growth or decline\n",
    "SGA_RD_GP = data[['fillingDate','SGA_%_GP','RD_%_GP']]\n",
    "\n",
    "# Display Revenue over time for trends in growth or decline\n",
    "rev = data[['fillingDate','revenue']]\n",
    "\n",
    "# Display how much a company finally retains (as %) after costs in Net Earnings from Revenue for trends in growth or decline\n",
    "NE_RV = data[['fillingDate','NE_%_RV']]\n",
    "\n",
    "# Display Earnings Per Share over time for trends in growth or decline\n",
    "perShareEarnings = data[['fillingDate','eps']]"
   ]
  },
  {
   "cell_type": "markdown",
   "metadata": {},
   "source": [
    "### Display Graphs"
   ]
  },
  {
   "cell_type": "code",
   "execution_count": null,
   "metadata": {},
   "outputs": [],
   "source": [
    "## THIS FUNCTION MIGHT NOT BE USEFUL IN TIME... KEEP AROUND JUST IN CASE\n",
    "\n",
    "# # Plot the Revenue\n",
    "# def graph(x, yname):\n",
    "    \n",
    "#     yData = []\n",
    "#     print('looking up ', yname)\n",
    "#     for i in data[str(yname)]:\n",
    "#         yData.append(i)\n",
    "\n",
    "#     plt.gca().xaxis.set_major_formatter(mdates.DateFormatter('%Y'))\n",
    "#     plt.plot(x,revs)\n",
    "#     plt.xlabel('Date (Years)')\n",
    "#     plt.ylabel('$ USD (Billions)')\n",
    "#     plt.title(str(yname))"
   ]
  },
  {
   "cell_type": "code",
   "execution_count": null,
   "metadata": {},
   "outputs": [],
   "source": [
    "# Plot the data\n",
    "\n",
    "# Display the Revenue, Gross Profits, and Net Earnings\n",
    "# rgnPlot = revGrossNet.plot()\n",
    "# rgnPlot.set_ylabel('Hundreds of Billions-USD')\n",
    "# rgnPlot.set_xlabel('Time-5yrs')\n",
    "\n",
    "# Get the past five dates (in years) for the x-axis\n",
    "dates = []\n",
    "for i in data['fillingDate']:\n",
    "    date = i.split(\"-\")[0]\n",
    "    dates.append(date)\n",
    "\n",
    "x = [dt.datetime.strptime(d,'%Y').date() for d in dates]\n",
    "\n",
    "# Get the plots you want to provide in graphical form\n",
    "plots = { \"RevenueGrossAndNetIncome\":[\"revenue\",\"grossProfit\",\"netIncome\"],\n",
    "          \"SGA_R&D_AsPercentGrossProfits\": [\"SGA_%_GP\",\"RD_%_GP\"],\n",
    "         \"GrossProfitMargin_OverTime\": [\"grossProfitMargin\"],\n",
    "         \"NetEarnings_%_Revenue\":[\"NE_%_RV\"],\n",
    "         \"EarningsPerShare\":[\"eps\"]\n",
    "        }\n",
    "\n",
    "# Plot these in graphical form as subplots\n",
    "fig, axs = plt.subplots(len(plots),figsize=(12,8))\n",
    "fig.suptitle(\"Income Statement\")\n",
    "fig.tight_layout()\n",
    "counter = 0\n",
    "for plot in plots:\n",
    "    for line in plots[plot]:\n",
    "        \n",
    "        axs[counter].plot(x,data[str(line)])\n",
    "    \n",
    "    counter+=1"
   ]
  },
  {
   "cell_type": "code",
   "execution_count": null,
   "metadata": {},
   "outputs": [],
   "source": [
    "\n",
    "### OLD CODE\n",
    "# Display the Revenue, Gross Profits, and Net Earnings\n",
    "rgnPlot = revGrossNet.plot()\n",
    "rgnPlot.set_ylabel('Hundreds of Billions-USD')\n",
    "rgnPlot.set_xlabel('Time-5yrs')\n",
    "\n",
    "#Display the SGA and R&D as percentage of Gross Profits\n",
    "sgardPlot = SGA_RD_GP.plot()\n",
    "sgardPlot.set_ylabel('% Gross Profits')\n",
    "sgardPlot.set_xlabel('Time-5yrs')\n",
    "\n",
    "# Display Gross Profit Margin over time\n",
    "gpmPlot = grossProfitMargin.plot()\n",
    "gpmPlot.set_ylabel('GPM')\n",
    "gpmPlot.set_xlabel('Time - 5yrs')\n",
    "\n",
    "# Display Revenue over time\n",
    "revPlot = rev.plot()\n",
    "revPlot.set_ylabel('Hundreds of Billions-USD')\n",
    "revPlot.set_xlabel('Time-5yrs')\n",
    "\n",
    "# Display company's final retention after costs over time\n",
    "nervPlot = NE_RV.plot()\n",
    "nervPlot.set_ylabel('Net Earnings as % of Rev')\n",
    "nervPlot.set_xlabel('Time-5yrs')\n",
    "\n",
    "# Display price per share earnings over time\n",
    "eps = perShareEarnings.plot()\n",
    "eps.set_ylabel('Billions-USD')\n",
    "eps.set_xlabel('Time-5yrs')\n",
    "\n",
    "print(rgnPlot, sgardPlot, gpmPlot,revPlot,nervPlot,eps)"
   ]
  }
 ],
 "metadata": {
  "kernelspec": {
   "display_name": "Python 3",
   "language": "python",
   "name": "python3"
  },
  "language_info": {
   "codemirror_mode": {
    "name": "ipython",
    "version": 3
   },
   "file_extension": ".py",
   "mimetype": "text/x-python",
   "name": "python",
   "nbconvert_exporter": "python",
   "pygments_lexer": "ipython3",
   "version": "3.8.5"
  }
 },
 "nbformat": 4,
 "nbformat_minor": 4
}
