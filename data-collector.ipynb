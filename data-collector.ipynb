{
 "cells": [
  {
   "cell_type": "markdown",
   "metadata": {},
   "source": [
    "# FlagShip\n",
    "##### Author: Samuel Moran "
   ]
  },
  {
   "cell_type": "markdown",
   "metadata": {},
   "source": [
    "### Preliminary Work"
   ]
  },
  {
   "cell_type": "code",
   "execution_count": 1,
   "metadata": {},
   "outputs": [],
   "source": [
    "# Import necessary libraries\n",
    "import pandas as pd\n",
    "import requests\n",
    "import json\n",
    "import influxdb_client\n",
    "from influxdb import InfluxDBClient\n",
    "from influxdb_client.client.write_api import SYNCHRONOUS\n",
    "import matplotlib.pyplot as plt\n",
    "%matplotlib inline"
   ]
  },
  {
   "cell_type": "code",
   "execution_count": 2,
   "metadata": {},
   "outputs": [],
   "source": [
    "#AUTOMATION AREA\n",
    "# 1) Get company tickers to format URL string\n",
    "# 2) Format string as such: \"https://financialmodelingprep.com/api/v3/income-statement/\" + companyName + \"?datatype=csv&apikey=\" + API_KEY"
   ]
  },
  {
   "cell_type": "code",
   "execution_count": 3,
   "metadata": {},
   "outputs": [],
   "source": [
    "# Retrieve local API key from file (---this file is not to be pushed to GitHub for security reasons ---)\n",
    "keyFile=\"/home/wintergreen/Projects/fskeyfile.txt\"\n",
    "with open(keyFile) as f:\n",
    "    key = str(f.readline().replace(\"\\n\",\"\"))\n",
    "API_KEY = key"
   ]
  },
  {
   "cell_type": "code",
   "execution_count": 20,
   "metadata": {},
   "outputs": [],
   "source": [
    "TICKER_TARGET = \"AAPL\""
   ]
  },
  {
   "cell_type": "code",
   "execution_count": 21,
   "metadata": {},
   "outputs": [],
   "source": [
    "URL = \"https://financialmodelingprep.com/api/v3/income-statement/\" + TICKER_TARGET + \"?limit=120&apikey=\" + API_KEY"
   ]
  },
  {
   "cell_type": "code",
   "execution_count": 22,
   "metadata": {},
   "outputs": [
    {
     "data": {
      "text/html": [
       "<div>\n",
       "<style scoped>\n",
       "    .dataframe tbody tr th:only-of-type {\n",
       "        vertical-align: middle;\n",
       "    }\n",
       "\n",
       "    .dataframe tbody tr th {\n",
       "        vertical-align: top;\n",
       "    }\n",
       "\n",
       "    .dataframe thead th {\n",
       "        text-align: right;\n",
       "    }\n",
       "</style>\n",
       "<table border=\"1\" class=\"dataframe\">\n",
       "  <thead>\n",
       "    <tr style=\"text-align: right;\">\n",
       "      <th></th>\n",
       "      <th>date</th>\n",
       "      <th>symbol</th>\n",
       "      <th>reportedCurrency</th>\n",
       "      <th>fillingDate</th>\n",
       "      <th>acceptedDate</th>\n",
       "      <th>period</th>\n",
       "      <th>revenue</th>\n",
       "      <th>costOfRevenue</th>\n",
       "      <th>grossProfit</th>\n",
       "      <th>grossProfitRatio</th>\n",
       "      <th>...</th>\n",
       "      <th>incomeBeforeTaxRatio</th>\n",
       "      <th>incomeTaxExpense</th>\n",
       "      <th>netIncome</th>\n",
       "      <th>netIncomeRatio</th>\n",
       "      <th>eps</th>\n",
       "      <th>epsdiluted</th>\n",
       "      <th>weightedAverageShsOut</th>\n",
       "      <th>weightedAverageShsOutDil</th>\n",
       "      <th>link</th>\n",
       "      <th>finalLink</th>\n",
       "    </tr>\n",
       "  </thead>\n",
       "  <tbody>\n",
       "    <tr>\n",
       "      <th>0</th>\n",
       "      <td>2020-09-26</td>\n",
       "      <td>AAPL</td>\n",
       "      <td>USD</td>\n",
       "      <td>2020-10-30</td>\n",
       "      <td>2020-10-29 18:06:25</td>\n",
       "      <td>FY</td>\n",
       "      <td>274515000000</td>\n",
       "      <td>169559000000</td>\n",
       "      <td>104956000000</td>\n",
       "      <td>0.382332</td>\n",
       "      <td>...</td>\n",
       "      <td>0.244398</td>\n",
       "      <td>9.680000e+09</td>\n",
       "      <td>57411000000</td>\n",
       "      <td>0.209136</td>\n",
       "      <td>3.3600</td>\n",
       "      <td>3.3600</td>\n",
       "      <td>17057622000</td>\n",
       "      <td>17057622000</td>\n",
       "      <td>https://www.sec.gov/Archives/edgar/data/320193...</td>\n",
       "      <td>https://www.sec.gov/Archives/edgar/data/320193...</td>\n",
       "    </tr>\n",
       "    <tr>\n",
       "      <th>1</th>\n",
       "      <td>2019-09-28</td>\n",
       "      <td>AAPL</td>\n",
       "      <td>USD</td>\n",
       "      <td>2019-10-31 00:00:00</td>\n",
       "      <td>2019-10-30 18:12:36</td>\n",
       "      <td>FY</td>\n",
       "      <td>260174000000</td>\n",
       "      <td>161782000000</td>\n",
       "      <td>98392000000</td>\n",
       "      <td>0.378178</td>\n",
       "      <td>...</td>\n",
       "      <td>0.252666</td>\n",
       "      <td>1.048100e+10</td>\n",
       "      <td>55256000000</td>\n",
       "      <td>0.212381</td>\n",
       "      <td>2.9925</td>\n",
       "      <td>2.9725</td>\n",
       "      <td>18471336000</td>\n",
       "      <td>18595652000</td>\n",
       "      <td>https://www.sec.gov/Archives/edgar/data/320193...</td>\n",
       "      <td>https://www.sec.gov/Archives/edgar/data/320193...</td>\n",
       "    </tr>\n",
       "    <tr>\n",
       "      <th>2</th>\n",
       "      <td>2018-09-29</td>\n",
       "      <td>AAPL</td>\n",
       "      <td>USD</td>\n",
       "      <td>2018-11-05 00:00:00</td>\n",
       "      <td>2018-11-05 08:01:40</td>\n",
       "      <td>FY</td>\n",
       "      <td>265595000000</td>\n",
       "      <td>163756000000</td>\n",
       "      <td>101839000000</td>\n",
       "      <td>0.383437</td>\n",
       "      <td>...</td>\n",
       "      <td>0.274489</td>\n",
       "      <td>1.337200e+10</td>\n",
       "      <td>59531000000</td>\n",
       "      <td>0.224142</td>\n",
       "      <td>3.0025</td>\n",
       "      <td>2.9775</td>\n",
       "      <td>19821508000</td>\n",
       "      <td>20000436000</td>\n",
       "      <td>https://www.sec.gov/Archives/edgar/data/320193...</td>\n",
       "      <td>https://www.sec.gov/Archives/edgar/data/320193...</td>\n",
       "    </tr>\n",
       "    <tr>\n",
       "      <th>3</th>\n",
       "      <td>2017-09-30</td>\n",
       "      <td>AAPL</td>\n",
       "      <td>USD</td>\n",
       "      <td>2017-11-03 00:00:00</td>\n",
       "      <td>2017-11-03 08:01:37</td>\n",
       "      <td>FY</td>\n",
       "      <td>229234000000</td>\n",
       "      <td>141048000000</td>\n",
       "      <td>88186000000</td>\n",
       "      <td>0.384699</td>\n",
       "      <td>...</td>\n",
       "      <td>0.279579</td>\n",
       "      <td>1.573800e+10</td>\n",
       "      <td>48351000000</td>\n",
       "      <td>0.210924</td>\n",
       "      <td>2.3175</td>\n",
       "      <td>2.3025</td>\n",
       "      <td>20868968000</td>\n",
       "      <td>21006768000</td>\n",
       "      <td>https://www.sec.gov/Archives/edgar/data/320193...</td>\n",
       "      <td>https://www.sec.gov/Archives/edgar/data/320193...</td>\n",
       "    </tr>\n",
       "    <tr>\n",
       "      <th>4</th>\n",
       "      <td>2016-09-24</td>\n",
       "      <td>AAPL</td>\n",
       "      <td>USD</td>\n",
       "      <td>2016-10-26 00:00:00</td>\n",
       "      <td>2016-10-26 16:42:16</td>\n",
       "      <td>FY</td>\n",
       "      <td>215639000000</td>\n",
       "      <td>131376000000</td>\n",
       "      <td>84263000000</td>\n",
       "      <td>0.390760</td>\n",
       "      <td>...</td>\n",
       "      <td>0.284605</td>\n",
       "      <td>1.568500e+10</td>\n",
       "      <td>45687000000</td>\n",
       "      <td>0.211868</td>\n",
       "      <td>2.0875</td>\n",
       "      <td>2.0775</td>\n",
       "      <td>21883280000</td>\n",
       "      <td>22001124000</td>\n",
       "      <td>https://www.sec.gov/Archives/edgar/data/320193...</td>\n",
       "      <td>https://www.sec.gov/Archives/edgar/data/320193...</td>\n",
       "    </tr>\n",
       "  </tbody>\n",
       "</table>\n",
       "<p>5 rows × 34 columns</p>\n",
       "</div>"
      ],
      "text/plain": [
       "         date symbol reportedCurrency          fillingDate  \\\n",
       "0  2020-09-26   AAPL              USD           2020-10-30   \n",
       "1  2019-09-28   AAPL              USD  2019-10-31 00:00:00   \n",
       "2  2018-09-29   AAPL              USD  2018-11-05 00:00:00   \n",
       "3  2017-09-30   AAPL              USD  2017-11-03 00:00:00   \n",
       "4  2016-09-24   AAPL              USD  2016-10-26 00:00:00   \n",
       "\n",
       "          acceptedDate period       revenue  costOfRevenue   grossProfit  \\\n",
       "0  2020-10-29 18:06:25     FY  274515000000   169559000000  104956000000   \n",
       "1  2019-10-30 18:12:36     FY  260174000000   161782000000   98392000000   \n",
       "2  2018-11-05 08:01:40     FY  265595000000   163756000000  101839000000   \n",
       "3  2017-11-03 08:01:37     FY  229234000000   141048000000   88186000000   \n",
       "4  2016-10-26 16:42:16     FY  215639000000   131376000000   84263000000   \n",
       "\n",
       "   grossProfitRatio  ...  incomeBeforeTaxRatio  incomeTaxExpense    netIncome  \\\n",
       "0          0.382332  ...              0.244398      9.680000e+09  57411000000   \n",
       "1          0.378178  ...              0.252666      1.048100e+10  55256000000   \n",
       "2          0.383437  ...              0.274489      1.337200e+10  59531000000   \n",
       "3          0.384699  ...              0.279579      1.573800e+10  48351000000   \n",
       "4          0.390760  ...              0.284605      1.568500e+10  45687000000   \n",
       "\n",
       "   netIncomeRatio     eps  epsdiluted  weightedAverageShsOut  \\\n",
       "0        0.209136  3.3600      3.3600            17057622000   \n",
       "1        0.212381  2.9925      2.9725            18471336000   \n",
       "2        0.224142  3.0025      2.9775            19821508000   \n",
       "3        0.210924  2.3175      2.3025            20868968000   \n",
       "4        0.211868  2.0875      2.0775            21883280000   \n",
       "\n",
       "   weightedAverageShsOutDil  \\\n",
       "0               17057622000   \n",
       "1               18595652000   \n",
       "2               20000436000   \n",
       "3               21006768000   \n",
       "4               22001124000   \n",
       "\n",
       "                                                link  \\\n",
       "0  https://www.sec.gov/Archives/edgar/data/320193...   \n",
       "1  https://www.sec.gov/Archives/edgar/data/320193...   \n",
       "2  https://www.sec.gov/Archives/edgar/data/320193...   \n",
       "3  https://www.sec.gov/Archives/edgar/data/320193...   \n",
       "4  https://www.sec.gov/Archives/edgar/data/320193...   \n",
       "\n",
       "                                           finalLink  \n",
       "0  https://www.sec.gov/Archives/edgar/data/320193...  \n",
       "1  https://www.sec.gov/Archives/edgar/data/320193...  \n",
       "2  https://www.sec.gov/Archives/edgar/data/320193...  \n",
       "3  https://www.sec.gov/Archives/edgar/data/320193...  \n",
       "4  https://www.sec.gov/Archives/edgar/data/320193...  \n",
       "\n",
       "[5 rows x 34 columns]"
      ]
     },
     "execution_count": 22,
     "metadata": {},
     "output_type": "execute_result"
    }
   ],
   "source": [
    "# Make request for data\n",
    "r = requests.get(URL)\n",
    "r = r.json()\n",
    "pd.DataFrame.from_dict(r).head(5)"
   ]
  },
  {
   "cell_type": "markdown",
   "metadata": {},
   "source": [
    "### Calculations"
   ]
  },
  {
   "cell_type": "code",
   "execution_count": 26,
   "metadata": {},
   "outputs": [
    {
     "name": "stdout",
     "output_type": "stream",
     "text": [
      "    index        date symbol reportedCurrency          fillingDate  \\\n",
      "31      3  2017-09-30   AAPL              USD  2017-11-03 00:00:00   \n",
      "32      2  2018-09-29   AAPL              USD  2018-11-05 00:00:00   \n",
      "33      1  2019-09-28   AAPL              USD  2019-10-31 00:00:00   \n",
      "34      0  2020-09-26   AAPL              USD           2020-10-30   \n",
      "35     22  1998-09-25   AAPL              USD                 None   \n",
      "\n",
      "           acceptedDate period       revenue  costOfRevenue   grossProfit  \\\n",
      "31  2017-11-03 08:01:37     FY  229234000000   141048000000   88186000000   \n",
      "32  2018-11-05 08:01:40     FY  265595000000   163756000000  101839000000   \n",
      "33  2019-10-30 18:12:36     FY  260174000000   161782000000   98392000000   \n",
      "34  2020-10-29 18:06:25     FY  274515000000   169559000000  104956000000   \n",
      "35                 None     FY    5941000000     4462000000    1479000000   \n",
      "\n",
      "    ...  incomeBeforeTaxRatio  incomeTaxExpense    netIncome  netIncomeRatio  \\\n",
      "31  ...              0.279579      1.573800e+10  48351000000        0.210924   \n",
      "32  ...              0.274489      1.337200e+10  59531000000        0.224142   \n",
      "33  ...              0.252666      1.048100e+10  55256000000        0.212381   \n",
      "34  ...              0.244398      9.680000e+09  57411000000        0.209136   \n",
      "35  ...              0.055378      2.000000e+07    309000000        0.052011   \n",
      "\n",
      "         eps  epsdiluted  weightedAverageShsOut  weightedAverageShsOutDil  \\\n",
      "31  2.317500     2.30250            20868968000               21006768000   \n",
      "32  3.002500     2.97750            19821508000               20000436000   \n",
      "33  2.992500     2.97250            18471336000               18595652000   \n",
      "34  3.360000     3.36000            17057622000               17057622000   \n",
      "35  0.020893     0.01875            14781088000               18806704000   \n",
      "\n",
      "                                                 link  \\\n",
      "31  https://www.sec.gov/Archives/edgar/data/320193...   \n",
      "32  https://www.sec.gov/Archives/edgar/data/320193...   \n",
      "33  https://www.sec.gov/Archives/edgar/data/320193...   \n",
      "34  https://www.sec.gov/Archives/edgar/data/320193...   \n",
      "35                                               None   \n",
      "\n",
      "                                            finalLink  \n",
      "31  https://www.sec.gov/Archives/edgar/data/320193...  \n",
      "32  https://www.sec.gov/Archives/edgar/data/320193...  \n",
      "33  https://www.sec.gov/Archives/edgar/data/320193...  \n",
      "34  https://www.sec.gov/Archives/edgar/data/320193...  \n",
      "35                                               None  \n",
      "\n",
      "[5 rows x 35 columns]\n",
      "['2017-11-03 00:00:00' '2018-11-05 00:00:00' '2019-10-31 00:00:00'\n",
      " '2020-10-30' None]\n"
     ]
    }
   ],
   "source": [
    "# Prepare the data: sort values from least recent to most recent\n",
    "data = (((pd.DataFrame.from_dict(r)).sort_values(by=['fillingDate'])).reset_index()).tail()\n",
    "print(data)\n",
    "# Combine SellingAndMarketing and generalAndAdministrative into one SGA Cost\n",
    "data['SellingGeneralAdministrative'] = data.apply(lambda row: row.generalAndAdministrativeExpenses + (row.sellingAndMarketingExpenses), axis=1)\n",
    "\n",
    "# Provide SGA costs as a percentage of Gross Profits\n",
    "data['SGA_%_GP'] = data.apply(lambda row: (row.SellingGeneralAdministrative / row.grossProfit)*100, axis=1)\n",
    "\n",
    "# Provide R&D costs as a percentage of Gross Profits\n",
    "data['RD_%_GP'] = data.apply(lambda row: (row.researchAndDevelopmentExpenses / row.grossProfit)*100, axis=1)\n",
    "\n",
    "# Provide GrossProfitMargin in a 'percentage' form\n",
    "data['grossProfitMargin'] = data.apply(lambda row: row.grossProfitRatio * 100,axis=1)\n",
    "\n",
    "# Provide Net Earnings as a percentage of Revenue\n",
    "data['NE_%_RV'] = data.apply(lambda row: (row.netIncome / row.revenue) * 100,axis=1)\n",
    "\n",
    "\n",
    "# Gather metrics needed for linear time-series graphs\n",
    "\n",
    "# Compare Revenue, Gross Profits, and Net Earnings as time-series for trends in growth or decline\n",
    "revGrossNet=data[['fillingDate','revenue','grossProfit','netIncome']]\n",
    "\n",
    "# Display Gross Profit Margin over time for trends in growth or decline\n",
    "grossProfitMargin = data[['fillingDate','grossProfitMargin']]\n",
    "\n",
    "# Deplay how much (as a percentage) SGA and R&D take up Gross Profits for trends in growth or decline\n",
    "SGA_RD_GP = data[['fillingDate','SGA_%_GP','RD_%_GP']]\n",
    "\n",
    "# Display Revenue over time for trends in growth or decline\n",
    "rev = data[['fillingDate','revenue']]\n",
    "\n",
    "# Display how much a company finally retains (as %) after costs in Net Earnings from Revenue for trends in growth or decline\n",
    "NE_RV = data[['fillingDate','NE_%_RV']]\n",
    "\n",
    "# Display Earnings Per Share over time for trends in growth or decline\n",
    "perShareEarnings = data[['fillingDate','eps']]\n",
    "\n",
    "\n",
    "\n",
    "# Experiment\n",
    "dates = data['fillingDate'].to_numpy()\n",
    "print(dates)"
   ]
  },
  {
   "cell_type": "markdown",
   "metadata": {},
   "source": [
    "### Display Graphs"
   ]
  },
  {
   "cell_type": "code",
   "execution_count": 8,
   "metadata": {
    "scrolled": false
   },
   "outputs": [
    {
     "name": "stdout",
     "output_type": "stream",
     "text": [
      "AxesSubplot(0.125,0.125;0.775x0.755) AxesSubplot(0.125,0.125;0.775x0.755) AxesSubplot(0.125,0.125;0.775x0.755) AxesSubplot(0.125,0.125;0.775x0.755) AxesSubplot(0.125,0.125;0.775x0.755) AxesSubplot(0.125,0.125;0.775x0.755)\n"
     ]
    },
    {
     "data": {
      "image/png": "[encoded data removed]",
      "text/plain": [
       "<Figure size 432x288 with 1 Axes>"
      ]
     },
     "metadata": {
      "needs_background": "light"
     },
     "output_type": "display_data"
    },
    {
     "data": {
      "image/png": "[encoded data removed]",
      "text/plain": [
       "<Figure size 432x288 with 1 Axes>"
      ]
     },
     "metadata": {
      "needs_background": "light"
     },
     "output_type": "display_data"
    },
    {
     "data": {
      "image/png": "[encoded data removed]",
      "text/plain": [
       "<Figure size 432x288 with 1 Axes>"
      ]
     },
     "metadata": {
      "needs_background": "light"
     },
     "output_type": "display_data"
    },
    {
     "data": {
      "image/png": "[encoded data removed]",
      "text/plain": [
       "<Figure size 432x288 with 1 Axes>"
      ]
     },
     "metadata": {
      "needs_background": "light"
     },
     "output_type": "display_data"
    },
    {
     "data": {
      "image/png": "[encoded data removed]",
      "text/plain": [
       "<Figure size 432x288 with 1 Axes>"
      ]
     },
     "metadata": {
      "needs_background": "light"
     },
     "output_type": "display_data"
    },
    {
     "data": {
      "image/png": "[encoded data removed]",
      "text/plain": [
       "<Figure size 432x288 with 1 Axes>"
      ]
     },
     "metadata": {
      "needs_background": "light"
     },
     "output_type": "display_data"
    }
   ],
   "source": [
    "# Plot the data\n",
    "\n",
    "# Display the Revenue, Gross Profits, and Net Earnings\n",
    "rgnPlot = revGrossNet.plot()\n",
    "rgnPlot.set_ylabel('Hundreds of Billions-USD')\n",
    "rgnPlot.set_xlabel('Time-5yrs')\n",
    "\n",
    "# Display the SGA and R&D as percentage of Gross Profits\n",
    "sgardPlot = SGA_RD_GP.plot()\n",
    "sgardPlot.set_ylabel('% Gross Profits')\n",
    "sgardPlot.set_xlabel('Time-5yrs')\n",
    "\n",
    "# Display Gross Profit Margin over time\n",
    "gpmPlot = grossProfitMargin.plot()\n",
    "gpmPlot.set_ylabel('GPM')\n",
    "gpmPlot.set_xlabel('Time - 5yrs')\n",
    "\n",
    "# Display Revenue over time\n",
    "revPlot = rev.plot()\n",
    "revPlot.set_ylabel('Hundreds of Billions-USD')\n",
    "revPlot.set_xlabel('Time-5yrs')\n",
    "\n",
    "# Display company's final retention after costs over time\n",
    "nervPlot = NE_RV.plot()\n",
    "nervPlot.set_ylabel('Net Earnings as % of Rev')\n",
    "nervPlot.set_xlabel('Time-5yrs')\n",
    "\n",
    "# Display price per share earnings over time\n",
    "eps = perShareEarnings.plot()\n",
    "eps.set_ylabel('Billions-USD')\n",
    "eps.set_xlabel('Time-5yrs')\n",
    "\n",
    "print(rgnPlot, sgardPlot, gpmPlot,revPlot,nervPlot,eps)"
   ]
  },
  {
   "cell_type": "code",
   "execution_count": null,
   "metadata": {},
   "outputs": [],
   "source": [
    "# Plot the data\n",
    "\n",
    "# Display the Revenue, Gross Profits, and Net Earnings\n",
    "rgnPlot = revGrossNet.plot()\n",
    "rgnPlot.set_ylabel('Hundreds of Billions-USD')\n",
    "rgnPlot.set_xlabel('Time-5yrs')\n",
    "\n",
    "# Display the SGA and R&D as percentage of Gross Profits\n",
    "sgardPlot = SGA_RD_GP.plot()\n",
    "sgardPlot.set_ylabel('% Gross Profits')\n",
    "sgardPlot.set_xlabel('Time-5yrs')\n",
    "\n",
    "# Display Gross Profit Margin over time\n",
    "gpmPlot = grossProfitMargin.plot()\n",
    "gpmPlot.set_ylabel('GPM')\n",
    "gpmPlot.set_xlabel('Time - 5yrs')\n",
    "\n",
    "# Display Revenue over time\n",
    "revPlot = rev.plot()\n",
    "revPlot.set_ylabel('Hundreds of Billions-USD')\n",
    "revPlot.set_xlabel('Time-5yrs')\n",
    "\n",
    "# Display company's final retention after costs over time\n",
    "nervPlot = NE_RV.plot()\n",
    "nervPlot.set_ylabel('Net Earnings as % of Rev')\n",
    "nervPlot.set_xlabel('Time-5yrs')\n",
    "\n",
    "# Display price per share earnings over time\n",
    "eps = perShareEarnings.plot()\n",
    "eps.set_ylabel('Billions-USD')\n",
    "eps.set_xlabel('Time-5yrs')\n",
    "\n",
    "print(rgnPlot, sgardPlot, gpmPlot,revPlot,nervPlot,eps)"
   ]
  },
  {
   "cell_type": "code",
   "execution_count": null,
   "metadata": {},
   "outputs": [],
   "source": []
  }
 ],
 "metadata": {
  "kernelspec": {
   "display_name": "Python 3",
   "language": "python",
   "name": "python3"
  },
  "language_info": {
   "codemirror_mode": {
    "name": "ipython",
    "version": 3
   },
   "file_extension": ".py",
   "mimetype": "text/x-python",
   "name": "python",
   "nbconvert_exporter": "python",
   "pygments_lexer": "ipython3",
   "version": "3.8.5"
  }
 },
 "nbformat": 4,
 "nbformat_minor": 4
}
